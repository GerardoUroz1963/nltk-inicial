{
  "cells": [
    {
      "cell_type": "code",
      "execution_count": null,
      "metadata": {
        "collapsed": false
      },
      "outputs": [],
      "source": [
        "%matplotlib inline"
      ]
    },
    {
      "cell_type": "markdown",
      "metadata": {},
      "source": [
        "\n",
        "# Custom Ticker1\n",
        "\n",
        "\n",
        "The new ticker code was designed to explicitly support user customized\n",
        "ticking. The documentation of :mod:`matplotlib.ticker` details this\n",
        "process.  That code defines a lot of preset tickers but was primarily\n",
        "designed to be user extensible.\n",
        "\n",
        "In this example a user defined function is used to format the ticks in\n",
        "millions of dollars on the y axis.\n",
        "\n"
      ]
    },
    {
      "cell_type": "code",
      "execution_count": null,
      "metadata": {
        "collapsed": false
      },
      "outputs": [],
      "source": [
        "from matplotlib.ticker import FuncFormatter\n",
        "import matplotlib.pyplot as plt\n",
        "import numpy as np\n",
        "\n",
        "x = np.arange(4)\n",
        "money = [1.5e5, 2.5e6, 5.5e6, 2.0e7]\n",
        "\n",
        "\n",
        "def millions(x, pos):\n",
        "    'The two args are the value and tick position'\n",
        "    return '$%1.1fM' % (x * 1e-6)\n",
        "\n",
        "\n",
        "formatter = FuncFormatter(millions)\n",
        "\n",
        "fig, ax = plt.subplots()\n",
        "ax.yaxis.set_major_formatter(formatter)\n",
        "plt.bar(x, money)\n",
        "plt.xticks(x, ('Bill', 'Fred', 'Mary', 'Sue'))\n",
        "plt.show()"
      ]
    }
  ],
  "metadata": {
    "kernelspec": {
      "display_name": "Python 3",
      "language": "python",
      "name": "python3"
    },
    "language_info": {
      "codemirror_mode": {
        "name": "ipython",
        "version": 3
      },
      "file_extension": ".py",
      "mimetype": "text/x-python",
      "name": "python",
      "nbconvert_exporter": "python",
      "pygments_lexer": "ipython3",
      "version": "3.6.8"
    }
  },
  "nbformat": 4,
  "nbformat_minor": 0
}
